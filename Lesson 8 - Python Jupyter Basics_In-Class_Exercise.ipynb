{
 "cells": [
  {
   "cell_type": "code",
   "execution_count": 1,
   "id": "45d46e85-6cc6-43dc-8333-168bfd95edcd",
   "metadata": {},
   "outputs": [],
   "source": [
    "## SE370 AY 23-2\n",
    "## Lesson 8: Python and Jupyter Basics\n",
    "\n",
    "## Basic Math"
   ]
  },
  {
   "cell_type": "code",
   "execution_count": 1,
   "id": "05f274da-227d-41e3-ace9-febbe1531b80",
   "metadata": {},
   "outputs": [],
   "source": [
    "# Add 4 and 8\n"
   ]
  },
  {
   "cell_type": "code",
   "execution_count": 2,
   "id": "16404111-008c-48ad-9a42-70f5ff67c25e",
   "metadata": {},
   "outputs": [],
   "source": [
    "# Add 6 and 12, and assign the result of this addition to the variable x\n"
   ]
  },
  {
   "cell_type": "code",
   "execution_count": 5,
   "id": "b6c8c51a-43b6-4032-9d10-e7677f4cde68",
   "metadata": {},
   "outputs": [],
   "source": [
    "# Subtract 3 from 5\n"
   ]
  },
  {
   "cell_type": "code",
   "execution_count": 4,
   "id": "d99e44c5-85be-441d-b44e-1222a1bd4578",
   "metadata": {},
   "outputs": [],
   "source": [
    "# Multiply 3 by 5\n"
   ]
  },
  {
   "cell_type": "code",
   "execution_count": 6,
   "id": "322b3f81-c82a-46e6-83fe-dbfae09b5867",
   "metadata": {},
   "outputs": [],
   "source": [
    "# Divide 12 by 4\n"
   ]
  },
  {
   "cell_type": "code",
   "execution_count": 7,
   "id": "bef63174-8585-481a-a396-0455573ea276",
   "metadata": {},
   "outputs": [],
   "source": [
    "# Raise 5 to the 3rd power\n"
   ]
  },
  {
   "cell_type": "code",
   "execution_count": 8,
   "id": "6e897be3-3a4a-45b8-9284-3b158fa8c8b9",
   "metadata": {},
   "outputs": [],
   "source": [
    "# Find the modulo (remainder) of twenty-eight and six\n"
   ]
  },
  {
   "cell_type": "code",
   "execution_count": 10,
   "id": "783af859-27b0-42eb-a73a-80202fbf9126",
   "metadata": {},
   "outputs": [],
   "source": [
    "# Assign the value 7 to the variable y\n"
   ]
  },
  {
   "cell_type": "code",
   "execution_count": 11,
   "id": "a904b1f0-e5b8-45c4-a447-721ad3a116e8",
   "metadata": {},
   "outputs": [],
   "source": [
    "# Subtract y from x\n"
   ]
  },
  {
   "cell_type": "code",
   "execution_count": 12,
   "id": "f09d45e3-3072-46d7-a883-765cc721bfac",
   "metadata": {},
   "outputs": [],
   "source": [
    "# Multiply x by y, and assign the result to the variable z\n"
   ]
  }
 ],
 "metadata": {
  "kernelspec": {
   "display_name": "Python 3 (ipykernel)",
   "language": "python",
   "name": "python3"
  },
  "language_info": {
   "codemirror_mode": {
    "name": "ipython",
    "version": 3
   },
   "file_extension": ".py",
   "mimetype": "text/x-python",
   "name": "python",
   "nbconvert_exporter": "python",
   "pygments_lexer": "ipython3",
   "version": "3.9.7"
  }
 },
 "nbformat": 4,
 "nbformat_minor": 5
}
